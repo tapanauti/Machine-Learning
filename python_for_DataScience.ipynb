{
  "nbformat": 4,
  "nbformat_minor": 0,
  "metadata": {
    "colab": {
      "provenance": [],
      "include_colab_link": true
    },
    "kernelspec": {
      "name": "python3",
      "display_name": "Python 3"
    },
    "language_info": {
      "name": "python"
    }
  },
  "cells": [
    {
      "cell_type": "markdown",
      "metadata": {
        "id": "view-in-github",
        "colab_type": "text"
      },
      "source": [
        "<a href=\"https://colab.research.google.com/github/tapanauti/Machine-Learning/blob/master/python_for_DataScience.ipynb\" target=\"_parent\"><img src=\"https://colab.research.google.com/assets/colab-badge.svg\" alt=\"Open In Colab\"/></a>"
      ]
    },
    {
      "cell_type": "markdown",
      "source": [
        "**Notes from Data Science with python - J Vanderplas**"
      ],
      "metadata": {
        "id": "LuIkIP49YWqQ"
      }
    },
    {
      "cell_type": "markdown",
      "source": [
        "Because the Python language is so easily readable, you can usually gain another level of insight by reading the source code of the object you’re curious about. IPython pro‐ vides a shortcut to the source code with the double question mark (??):\n",
        "\n",
        "    In [8]: square??\n",
        "    Type: function\n",
        "    String form: <function square at 0x103713cb0> Definition: square(a)\n",
        "    Source:\n",
        "    def square(a):\n",
        "            \"Return the square of a\"\n",
        "    return a ** 2"
      ],
      "metadata": {
        "id": "7Mj8izFFY0dQ"
      }
    },
    {
      "cell_type": "markdown",
      "source": [
        "###Tab completion of object contents\n",
        "\n",
        "To see a list of all available attributes of an object, you can type the name of the object fol‐ lowed by a period (.) character and the Tab key:\n",
        "\n",
        "     In [10]: L.<TAB>\n",
        "    L.append   L.copy     L.extend   L.insert   L.remove   L.sort\n",
        "    L.clear    L.count    L.index    L.pop      L.reverse"
      ],
      "metadata": {
        "id": "msbYG2qWeWqq"
      }
    },
    {
      "cell_type": "markdown",
      "source": [
        "###Numpy\n",
        "\n",
        "\n",
        "Throughout the notes the Numpy will be imported and use as ***np***\n",
        "\n",
        "    import numpy as np\n",
        "\n",
        "\n",
        "    x1 = np.random.randint(10, size=6) # One-dimensional array\n",
        "    x2 = np.random.randint(10, size=(3, 4)) # Two-dimensional array\n",
        "    x3 = np.random.randint(10, size=(3, 4, 5)) # Three-dimensional array\n",
        "\n",
        "Accessing array rows and columns.\n",
        "\n",
        "    In[28]: print(x2[:, 0]) # first column of x2 \n",
        "    [12 7 1]\n",
        "\n",
        "    In[29]: print(x2[0, :]) # first row of x2\n",
        "    [12 5 2 4]\n",
        "\n",
        "\n"
      ],
      "metadata": {
        "id": "pbD3Z2Dandj1"
      }
    },
    {
      "cell_type": "markdown",
      "source": [
        "Reshaping of Arrays\n",
        "\n",
        "\n",
        "Another useful type of operation is reshaping of arrays. The most flexible way of doing this is with the reshape() method. For example, if you want to put the num‐ bers 1 through 9 in a 3×3 grid, you can do the following:\n",
        "\n",
        "\n",
        "    In[38]: grid = np.arange(1, 10).reshape((3, 3))\n",
        "    print(grid)\n",
        "\n",
        "    [[1 2 3]\n",
        "     [4 5 6]\n",
        "     [7 8 9]]\n",
        "\n",
        "\n",
        "For working with arrays of mixed dimensions, it can be clearer to use the np.vstack (vertical stack) and np.hstack (horizontal stack) functions:\n",
        "\n",
        "    In[48]: x = np.array([1, 2, 3])\n",
        "            grid = np.array([[9, 8, 7],\n",
        "    [6, 5, 4]]) # vertically stack the arrays\n",
        "    \n",
        "    np.vstack([x, grid])\n",
        "    Out[48]: array([[1, 2, 3],\n",
        "                    [9, 8, 7],\n",
        "                    [6, 5, 4]])\n",
        "\n",
        "\n",
        "    In[49]: # horizontally stack the arrays \n",
        "            y = np.array([[99],\n",
        "                          [99]])\n",
        "            np.hstack([grid, y])\n",
        "    Out[49]: array([[ 9,  8,  7, 99],\n",
        "                    [ 6,  5,  4, 99]])\n",
        "\n",
        "Similarly, np.dstack will stack arrays along the third axis."
      ],
      "metadata": {
        "id": "ZpSEKNZV9Zoe"
      }
    },
    {
      "cell_type": "markdown",
      "source": [
        "Mathematic functions\n",
        "\n",
        "    In[26]: x = np.arange(1, 6)\n",
        "    x\n",
        "    np.add.reduce(x)\n",
        "\n",
        "    Out[26]: [[1,2,3,4,5]]\n",
        "             15\n",
        "\n",
        "             "
      ],
      "metadata": {
        "id": "PP5Ytore504q"
      }
    }
  ]
}