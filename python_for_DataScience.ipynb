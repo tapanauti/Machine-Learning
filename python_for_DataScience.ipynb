{
  "nbformat": 4,
  "nbformat_minor": 0,
  "metadata": {
    "colab": {
      "provenance": [],
      "authorship_tag": "ABX9TyNu2bo7fAKPGE9cOEExwWkv",
      "include_colab_link": true
    },
    "kernelspec": {
      "name": "python3",
      "display_name": "Python 3"
    },
    "language_info": {
      "name": "python"
    }
  },
  "cells": [
    {
      "cell_type": "markdown",
      "metadata": {
        "id": "view-in-github",
        "colab_type": "text"
      },
      "source": [
        "<a href=\"https://colab.research.google.com/github/tapanauti/Machine-Learning/blob/master/python_for_DataScience.ipynb\" target=\"_parent\"><img src=\"https://colab.research.google.com/assets/colab-badge.svg\" alt=\"Open In Colab\"/></a>"
      ]
    },
    {
      "cell_type": "markdown",
      "source": [
        "**Notes from Data Science with python - J Vanderplas**"
      ],
      "metadata": {
        "id": "LuIkIP49YWqQ"
      }
    },
    {
      "cell_type": "markdown",
      "source": [
        "Because the Python language is so easily readable, you can usually gain another level of insight by reading the source code of the object you’re curious about. IPython pro‐ vides a shortcut to the source code with the double question mark (??):\n",
        "\n",
        "    In [8]: square??\n",
        "    Type: function\n",
        "    String form: <function square at 0x103713cb0> Definition: square(a)\n",
        "    Source:\n",
        "    def square(a):\n",
        "            \"Return the square of a\"\n",
        "    return a ** 2"
      ],
      "metadata": {
        "id": "7Mj8izFFY0dQ"
      }
    },
    {
      "cell_type": "markdown",
      "source": [
        "###Tab completion of object contents\n",
        "\n",
        "To see a list of all available attributes of an object, you can type the name of the object fol‐ lowed by a period (.) character and the Tab key:\n",
        "\n",
        "     In [10]: L.<TAB>\n",
        "    L.append   L.copy     L.extend   L.insert   L.remove   L.sort\n",
        "    L.clear    L.count    L.index    L.pop      L.reverse"
      ],
      "metadata": {
        "id": "msbYG2qWeWqq"
      }
    },
    {
      "cell_type": "markdown",
      "source": [],
      "metadata": {
        "id": "pbD3Z2Dandj1"
      }
    }
  ]
}