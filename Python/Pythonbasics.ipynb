{
  "nbformat": 4,
  "nbformat_minor": 0,
  "metadata": {
    "colab": {
      "provenance": [],
      "include_colab_link": true
    },
    "kernelspec": {
      "name": "python3",
      "display_name": "Python 3"
    },
    "language_info": {
      "name": "python"
    }
  },
  "cells": [
    {
      "cell_type": "markdown",
      "metadata": {
        "id": "view-in-github",
        "colab_type": "text"
      },
      "source": [
        "<a href=\"https://colab.research.google.com/github/tapanauti/Machine-Learning/blob/master/Python/Pythonbasics.ipynb\" target=\"_parent\"><img src=\"https://colab.research.google.com/assets/colab-badge.svg\" alt=\"Open In Colab\"/></a>"
      ]
    },
    {
      "cell_type": "markdown",
      "source": [
        "In [1]: import this\n",
        "\n",
        "The Zen of Python, by Tim Peters\n",
        "\n",
        "    Beautiful is better than ugly.\n",
        "    Explicit is better than implicit.\n",
        "    Simple is better than complex.\n",
        "    Complex is better than complicated.\n",
        "    Flat is better than nested.\n",
        "    Sparse is better than dense.\n",
        "    Readability counts.\n",
        "    Special cases aren't special enough to break the rules.\n",
        "    Although practicality beats purity.\n",
        "    Errors should never pass silently.\n",
        "    Unless explicitly silenced.\n",
        "    In the face of ambiguity, refuse the temptation to guess.\n",
        "    There should be one--and preferably only one--obvious way to do it.\n",
        "    Although that way may not be obvious at first unless you're Dutch.\n",
        "    Now is better than never.\n",
        "    Although never is often better than *right* now.\n",
        "    If the implementation is hard to explain, it's a bad idea.\n",
        "    If the implementation is easy to explain, it may be a good idea.\n",
        "    Namespaces are one honking great idea--let's do more of those!"
      ],
      "metadata": {
        "id": "EflpgxULiqmv"
      }
    },
    {
      "cell_type": "markdown",
      "source": [
        "Everything Is an Object\n",
        "\n",
        "    In [7]: x=4 type(x)\n",
        "    Out [7]: int\n",
        "\n",
        "    In [8]:  x = 'hello'\n",
        "             type(x)\n",
        "    Out [8]: str\n",
        "    \n",
        "    In [9]:  x = 3.14159\n",
        "             type(x)\n",
        "    Out [9]: float\n",
        "\n",
        "Python has types; however, the types are linked not to the variable names but to the objects themselves."
      ],
      "metadata": {
        "id": "7xU8ud9MjD4x"
      }
    },
    {
      "cell_type": "markdown",
      "source": [
        "Arithmetic Operations\n",
        "\n",
        "    a+b Addition\n",
        "    a-b Subtraction\n",
        "    a*b Multiplication\n",
        "    a/b True division\n",
        "    a//b Floor division\n",
        "    a%b Modulus\n",
        "    a**b Exponentiation araisedtothepowerofb -a Negation The negative of a\n",
        "    Sum ofaandb\n",
        "    Difference ofaandb\n",
        "    Product ofaandb\n",
        "    Quotient ofaandb\n",
        "    Quotient ofaandb, removing fractional parts Remainder after division ofabyb\n",
        "    +a Unary plus a unchanged (rarely used)"
      ],
      "metadata": {
        "id": "xE0eaQQ8kySC"
      }
    }
  ]
}